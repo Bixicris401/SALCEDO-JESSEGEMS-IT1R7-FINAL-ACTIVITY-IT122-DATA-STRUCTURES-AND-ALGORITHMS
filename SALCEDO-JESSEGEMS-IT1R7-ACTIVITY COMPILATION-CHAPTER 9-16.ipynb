{
 "cells": [
  {
   "cell_type": "code",
   "execution_count": null,
   "id": "professional-price",
   "metadata": {},
   "outputs": [],
   "source": [
    "print(\"Discuss your learnings on from Chapter 9 to Chapter 17\")"
   ]
  },
  {
   "cell_type": "code",
   "execution_count": 2,
   "id": "contrary-chase",
   "metadata": {},
   "outputs": [
    {
     "name": "stdout",
     "output_type": "stream",
     "text": [
      "Chapter 9 Learnings are the following\n",
      "My learning on this chapter is that on how the Flight Routes and Directed graph works, I'm not that confident enough I am able to understand it clearly but it gives me idea in how it works. One of the examples is the tree, there should be only one path between two nodes. I also learned that a graph is a representation of a set of objects where some pairs of objects are connected by links. \n"
     ]
    }
   ],
   "source": [
    "print(\"Chapter 9 Learnings are the following\")\n",
    "print(\"My learning on this chapter is that on how the Flight Routes and Directed graph works, I'm not that confident enough I am able to understand it clearly but it gives me idea in how it works. One of the examples is the tree, there should be only one path between two nodes. I also learned that a graph is a representation of a set of objects where some pairs of objects are connected by links. \")"
   ]
  },
  {
   "cell_type": "code",
   "execution_count": 3,
   "id": "alternate-cookie",
   "metadata": {},
   "outputs": [
    {
     "name": "stdout",
     "output_type": "stream",
     "text": [
      "Chapter 10 Learnings are the following\n",
      "I learned that a Binary Search or also known as half-interval search finds the position of a target value within a sorted array. And Binary Search, it compares the target value to the middle element of the Array. And I learned also that it is an algorithm to find a particular element in the list.\n"
     ]
    }
   ],
   "source": [
    "print(\"Chapter 10 Learnings are the following\")\n",
    "print(\"I learned that a Binary Search or also known as half-interval search finds the position of a target value within a sorted array. \")\n",
    "print(\"And Binary Search, it compares the target value to the middle element of the Array.\")\n",
    "print(\"And I learned also that it is an algoritd a particular element in the list.\")"
   ]
  },
  {
   "cell_type": "code",
   "execution_count": 5,
   "id": "prescribed-weekly",
   "metadata": {},
   "outputs": [
    {
     "name": "stdout",
     "output_type": "stream",
     "text": [
      "Chapter 11 Learnings are the following\n",
      "I learned that a Bubble Sort is a sorting algorithm used to sort list items in ascending order by comparing two adjacent values. \n",
      "I also learned how it works.\n",
      "If the first value is higher than second value, the first value takes the second value position, while second value takes the first value position.\n"
     ]
    }
   ],
   "source": [
    "print(\"Chapter 11 Learnings are the following\")\n",
    "print(\"I learned that a Bubble Sort is a sorting algorithm used to sort list items in ascending order by comparing two adjacent values. \")\n",
    "print(\"I also learned how it works.\")\n",
    "print(\"If the first value is higher than second value, the first value takes the second value position, while second value takes the first value position.\")"
   ]
  },
  {
   "cell_type": "code",
   "execution_count": 6,
   "id": "fifth-visibility",
   "metadata": {},
   "outputs": [
    {
     "name": "stdout",
     "output_type": "stream",
     "text": [
      "Chapter 12 Learnings are the following\n",
      "I learned that a Quick Sort is a highly efficient sorting algorithm and is based on partitioning of array of data into smaller arrays.\n",
      "And I learned that there are 2 types of partition schemes. It is HOARE PARTITION and  Lomuto Partition\n",
      "For HOARE PARTITION, it works because it separates an array into smaller sub-arrays which are not mis-sorted relative to each other. \n",
      "Lomuto's partition scheme is easy to implement as compared to Hoare scheme.\n"
     ]
    }
   ],
   "source": [
    "print(\"Chapter 12 Learnings are the following\")\n",
    "print(\"I learned that a Quick Sort is a highly efficient sorting algorithm and is based on partitioning of array of data into smaller arrays.\")\n",
    "print(\"And I learned that there are 2 types of partition schemes. It is HOARE PARTITION and  Lomuto Partition\")\n",
    "print(\"For HOARE PARTITION, it works because it separates an array into smaller sub-arrays which are not mis-sorted relative to each other. \")\n",
    "print(\"Lomuto's partition scheme is easy to implement as compared to Hoare scheme.\")"
   ]
  },
  {
   "cell_type": "code",
   "execution_count": 7,
   "id": "welcome-asset",
   "metadata": {},
   "outputs": [
    {
     "name": "stdout",
     "output_type": "stream",
     "text": [
      "Chapter 13 Learnings are the following\n",
      "I learned that the Insertion sort is a straightforward and more efficient algorithm than the previous bubble sort algorithm.\n",
      "I learned that is it is effiecient for small data sets, much like other quadratic sorting algorithms.\n"
     ]
    }
   ],
   "source": [
    "print(\"Chapter 13 Learnings are the following\")\n",
    "print(\"I learned that the Insertion sort is a straightforward and more efficient algorithm than the previous bubble sort algorithm.\")\n",
    "print(\"I learned that is it is effiecient for small data sets, much like other quadratic sorting algorithms.\")"
   ]
  },
  {
   "cell_type": "code",
   "execution_count": 9,
   "id": "trying-consumption",
   "metadata": {},
   "outputs": [
    {
     "name": "stdout",
     "output_type": "stream",
     "text": [
      "Chapter 14 Learning are the following\n",
      "I learned that merge sort is on of the famous sorting algorithms\n",
      "For my opinion, merge sort and quicksort is likely the first efficient, general-purpose sorting algorithm you have heard of.\n",
      "I learned how merge sort works\n",
      "An initial array is divided into two roughly equal parts. If the array has an odd number of elements, one of those HALVES is by one element larger than the other as I searched more in google this is what I have learned.\n"
     ]
    }
   ],
   "source": [
    "print(\"Chapter 14 Learning are the following\")\n",
    "print(\"I learned that merge sort is on of the famous sorting algorithms\")\n",
    "print(\"For my opinion, merge sort and quicksort is likely the first efficient, general-purpose sorting algorithm you have heard of.\")\n",
    "print(\"I learned how merge sort works\")\n",
    "print(\"An initial array is divided into two roughly equal parts. If the array has an odd number of elements, one of those HALVES is by one element larger than the other as I searched more in google this is what I have learned.\")\n"
   ]
  },
  {
   "cell_type": "code",
   "execution_count": 10,
   "id": "artistic-novel",
   "metadata": {},
   "outputs": [
    {
     "name": "stdout",
     "output_type": "stream",
     "text": [
      "Chapter 15 Learning are the following\n",
      "I learned that shell sort is a sorting algorithm that first sorts the elements far apart from each other and successively reduces the interval between the elements to be sorted. \n",
      "I think it is a generalized version of insertion sort.\n"
     ]
    }
   ],
   "source": [
    "print(\"Chapter 15 Learning are the following\")\n",
    "print(\"I learned that shell sort is a sorting algorithm that first sorts the elements far apart from each other and successively reduces the interval between the elements to be sorted. \")\n",
    "print(\"I think it is a generalized version of insertion sort.\")"
   ]
  },
  {
   "cell_type": "code",
   "execution_count": 11,
   "id": "comprehensive-mirror",
   "metadata": {},
   "outputs": [
    {
     "name": "stdout",
     "output_type": "stream",
     "text": [
      "Chapter 16 Learnings are the following\n",
      "I learned that the Selection Sort algorithms sorts an array by repeatedly finding the minimum element from unsorted part and putting it at the beginning.\n",
      "I also learned more about the use of Selection Sort.\n",
      "Selection sort can be good at checking if everything is already sorted\n",
      "It is also good to use when memory space is limited.\n",
      "This is because unlike other sorting algorithms, selection sort doesn't go around swapping things until the very end, resulting in less temporary storage space used.\n"
     ]
    }
   ],
   "source": [
    "print(\"Chapter 16 Learnings are the following\")\n",
    "print(\"I learned that the Selection Sort algorithms sorts an array by repeatedly finding the minimum element from unsorted part and putting it at the beginning.\")\n",
    "print(\"I also learned more about the use of Selection Sort.\")\n",
    "print(\"Selection sort can be good at checking if everything is already sorted\")\n",
    "print(\"It is also good to use when memory space is limited.\")\n",
    "print(\"This is because unlike other sorting algorithms, selection sort doesn't go around swapping things until the very end, resulting in less temporary storage space used.\")"
   ]
  },
  {
   "cell_type": "code",
   "execution_count": 7,
   "id": "younger-honduras",
   "metadata": {},
   "outputs": [
    {
     "name": "stdout",
     "output_type": "stream",
     "text": [
      "Chapter 17 Learnings are the following\n",
      "I learned that a Recursion is a method of solving problems where you solve smaller portions of the problem until you solve the original, larger problem. \n",
      "Another learning is that the Recursion is used to calculate the factorial of a number.\n",
      "The process may repeat several times, outputting the result and the end of each iteration\n"
     ]
    }
   ],
   "source": [
    "print(\"Chapter 17 Learnings are the following\")\n",
    "print(\"I learned that a Recursion is a method of solving problems where you solve smaller portions of the problem until you solve the original, larger problem. \")\n",
    "print(\"Another learning is that the Recursion is used to calculate the factorial of a number.\")\n",
    "print(\"The process may repeat several times, outputting the result and the end of each iteration\")"
   ]
  },
  {
   "cell_type": "code",
   "execution_count": 8,
   "id": "fantastic-cancer",
   "metadata": {},
   "outputs": [
    {
     "name": "stdout",
     "output_type": "stream",
     "text": [
      "Test 2\n"
     ]
    }
   ],
   "source": [
    "print(\"Test 2\")"
   ]
  },
  {
   "cell_type": "code",
   "execution_count": 34,
   "id": "frequent-island",
   "metadata": {},
   "outputs": [
    {
     "name": "stdout",
     "output_type": "stream",
     "text": [
      "1.\n"
     ]
    }
   ],
   "source": [
    "print(\"1.\")\n"
   ]
  },
  {
   "cell_type": "code",
   "execution_count": null,
   "id": "proprietary-girlfriend",
   "metadata": {},
   "outputs": [],
   "source": [
    "def show(self):\n",
    "        print (self.num, \"/\", self.den)\n",
    "\n",
    "    def get_num(self):\n",
    "        return self.num\n",
    "\n",
    "    def get_den(self):\n",
    "        return self.den"
   ]
  },
  {
   "cell_type": "code",
   "execution_count": 35,
   "id": "functional-detection",
   "metadata": {},
   "outputs": [
    {
     "name": "stdout",
     "output_type": "stream",
     "text": [
      "2.\n"
     ]
    }
   ],
   "source": [
    "print(\"2.\")"
   ]
  },
  {
   "cell_type": "code",
   "execution_count": null,
   "id": "sunset-indonesian",
   "metadata": {},
   "outputs": [],
   "source": []
  },
  {
   "cell_type": "code",
   "execution_count": 14,
   "id": "accessory-faith",
   "metadata": {},
   "outputs": [
    {
     "name": "stdout",
     "output_type": "stream",
     "text": [
      "3.\n",
      "Called by the repr built-in function and by string conversions (reverse quotes) to compute the “official” string representation of an object.\n",
      "If at all possible, this should look like a valid Python expression that could be used to recreate an object with the same value.\n",
      "If this is not possible, a string of the form should be returned.\n"
     ]
    }
   ],
   "source": [
    "print(\"3.\")\n",
    "print(\"Called by the repr built-in function and by string conversions (reverse quotes) to compute the “official” string representation of an object.\")\n",
    "print(\"If at all possible, this should look like a valid Python expression that could be used to recreate an object with the same value.\")\n",
    "print(\"If this is not possible, a string of the form should be returned.\")"
   ]
  },
  {
   "cell_type": "code",
   "execution_count": 19,
   "id": "searching-extreme",
   "metadata": {},
   "outputs": [
    {
     "name": "stdout",
     "output_type": "stream",
     "text": [
      "4.\n"
     ]
    }
   ],
   "source": [
    "print(\"4.\")"
   ]
  },
  {
   "cell_type": "code",
   "execution_count": null,
   "id": "composed-lingerie",
   "metadata": {},
   "outputs": [],
   "source": []
  },
  {
   "cell_type": "code",
   "execution_count": 27,
   "id": "given-lotus",
   "metadata": {},
   "outputs": [
    {
     "name": "stdout",
     "output_type": "stream",
     "text": [
      "5.\n"
     ]
    }
   ],
   "source": [
    "print(\"5.\")"
   ]
  },
  {
   "cell_type": "code",
   "execution_count": null,
   "id": "atlantic-client",
   "metadata": {},
   "outputs": [],
   "source": []
  },
  {
   "cell_type": "code",
   "execution_count": 29,
   "id": "closing-dream",
   "metadata": {},
   "outputs": [
    {
     "name": "stdout",
     "output_type": "stream",
     "text": [
      "6.\n"
     ]
    }
   ],
   "source": [
    "print(\"6.\")"
   ]
  },
  {
   "cell_type": "code",
   "execution_count": null,
   "id": "designed-sample",
   "metadata": {},
   "outputs": [],
   "source": [
    "from QueueADT import Queue\n",
    "import datetime as dt\n",
    "import time\n",
    "\n",
    "\n",
    "def testQueueADT():\n",
    "    Q = Queue()\n",
    "    times = []\n",
    "    NUMS = [1000, 10000, 100000, 1000000]\n",
    "    for N in NUMS:\n",
    "        Q = Queue()\n",
    "        start = dt.datetime.now()\n",
    "        for i in range(N):\n",
    "            Q.enqueue(i)\n",
    "        end = dt.datetime.now()\n",
    "        elapsed = ((end - start).microseconds*1000)/N\n",
    "        print (\"Enqueue for %d items: %d\" % (1000, elapsed))\n",
    "\n",
    "    print (\"==================================================\")\n",
    "    times = []\n",
    "    for N in NUMS:\n",
    "        Q = Queue()\n",
    "        for i in range(N):\n",
    "            Q.enqueue(i)\n",
    "        start = dt.datetime.now()\n",
    "        for i in range(N):\n",
    "            Q.dequeue()\n",
    "        end = dt.datetime.now()\n",
    "        elapsed = ((end - start).microseconds*1000)/N\n",
    "        print (\"Dequeue for %d items: %d\" % (1000, elapsed))\n",
    "\n",
    "\n",
    "def main():\n",
    "    testQueueADT()\n",
    "\n",
    "if _name_ == '_main_':\n",
    "    main()"
   ]
  },
  {
   "cell_type": "code",
   "execution_count": 30,
   "id": "endangered-housing",
   "metadata": {},
   "outputs": [
    {
     "name": "stdout",
     "output_type": "stream",
     "text": [
      "7.\n"
     ]
    }
   ],
   "source": [
    "print(\"7.\")"
   ]
  },
  {
   "cell_type": "code",
   "execution_count": null,
   "id": "impressive-sentence",
   "metadata": {},
   "outputs": [],
   "source": []
  },
  {
   "cell_type": "code",
   "execution_count": 31,
   "id": "bibliographic-manor",
   "metadata": {},
   "outputs": [
    {
     "name": "stdout",
     "output_type": "stream",
     "text": [
      "8.\n"
     ]
    }
   ],
   "source": [
    "print(\"8.\")"
   ]
  },
  {
   "cell_type": "code",
   "execution_count": null,
   "id": "desperate-thread",
   "metadata": {},
   "outputs": [],
   "source": [
    "from QueueLinkedList import Queue\n",
    "\n",
    "\n",
    "def testQueueLinkedList():\n",
    "    Q = Queue()\n",
    "    while True:\n",
    "        print (\"Choose operation: \")\n",
    "        print (\" 1 - Enqueue\\n\",\n",
    "               \"2 - Dequeue\\n\",\n",
    "               \"3 - Size\\n\",\n",
    "               \"4 - Exit\\n\")\n",
    "        choice = input()\n",
    "        if choice == '1':\n",
    "            Q = enqueue(Q)\n",
    "        elif choice == '2':\n",
    "            Q = dequeue(Q)\n",
    "        elif choice == '3':\n",
    "            getSize(Q)\n",
    "        elif choice == '4':\n",
    "            break\n",
    "        else:\n",
    "            print (\"BAD Choice! Choose from 1 to 4 numbers\")\n",
    "\n",
    "\n",
    "def dequeue(Q):\n",
    "    if not Q.isEmpty():\n",
    "        node = Q.dequeue()\n",
    "        print (\"Dequeued: \", node.data)\n",
    "        Q.qprint()\n",
    "    else:\n",
    "        print (\"Queue is EMPTY!\")\n",
    "    return Q\n",
    "\n",
    "\n",
    "def getSize(Q):\n",
    "    size = Q.size()\n",
    "    print (\"Size of Queue: \", size)\n",
    "\n",
    "\n",
    "def enqueue(Q):\n",
    "    data = input(\"Data to be enqueued: \")\n",
    "    if (data is not None) or len(data) > 0:\n",
    "        Q.enqueue(data)\n",
    "        Q.qprint()\n",
    "    else:\n",
    "        print (\"Bad data. Plz try again..\")\n",
    "    return Q\n",
    "\n",
    "\n",
    "def main():\n",
    "    testQueueLinkedList()\n",
    "\n",
    "\n",
    "if _name_ == '_main_':\n",
    "    main()"
   ]
  },
  {
   "cell_type": "code",
   "execution_count": 32,
   "id": "ultimate-sapphire",
   "metadata": {},
   "outputs": [
    {
     "name": "stdout",
     "output_type": "stream",
     "text": [
      "9.\n"
     ]
    }
   ],
   "source": [
    "print(\"9.\")"
   ]
  },
  {
   "cell_type": "code",
   "execution_count": null,
   "id": "unknown-substance",
   "metadata": {},
   "outputs": [],
   "source": [
    "def factorial(n):\n",
    " \n",
    "   \n",
    "    if n < 1:\n",
    "        return 1\n",
    " \n",
    "    # use the recurrence relation\n",
    "    return n * factorial(n - 1)\n",
    " \n",
    " \n",
    "if _name_ == '_main_':\n",
    " \n",
    "    n = 5\n",
    "    print(\"The Factorial of\", n, \"is\", factorial(n))"
   ]
  },
  {
   "cell_type": "code",
   "execution_count": 36,
   "id": "reduced-intent",
   "metadata": {},
   "outputs": [
    {
     "name": "stdout",
     "output_type": "stream",
     "text": [
      "10.\n"
     ]
    }
   ],
   "source": [
    "print(\"10.\")"
   ]
  },
  {
   "cell_type": "code",
   "execution_count": null,
   "id": "acoustic-craft",
   "metadata": {},
   "outputs": [],
   "source": [
    "def sequentialSearch(alist, item):\n",
    "    pos = 0\n",
    "    found = False\n",
    "    \n",
    "    while pos < len(alist) and not found:\n",
    "        if alist[pos] == item:\n",
    "            found =  True\n",
    "        else:\n",
    "            pos = pos+1\n",
    "            \n",
    "    return pos\n",
    "\n",
    "testlist = [1, 2, 32, 8, 17, 19, 42, 13, 0]\n",
    "item = 2\n",
    "k = sequentialSearch(testlist, item)\n",
    "if k <= len(testlist)-1:\n",
    "    print('The item t= %s was found at testlist[%s]') %(item, k)\n",
    "else:\n",
    "    print('The item t= %s was not found.' %item)"
   ]
  },
  {
   "cell_type": "code",
   "execution_count": 37,
   "id": "prime-malpractice",
   "metadata": {},
   "outputs": [
    {
     "name": "stdout",
     "output_type": "stream",
     "text": [
      "11.\n"
     ]
    }
   ],
   "source": [
    "print(\"11.\")"
   ]
  },
  {
   "cell_type": "code",
   "execution_count": null,
   "id": "parliamentary-office",
   "metadata": {},
   "outputs": [],
   "source": [
    "class StolenItem:\n",
    "    def __init__(self, theID, theValue, theWeight):\n",
    "        self.ID = theID\n",
    "        self.value = theValue\n",
    "        self.weight = theWeight\n",
    "\n",
    "def dpMaxProfit (itemList, knapWeight, maxProfits, weightsUsed):\n",
    "    maxProfit = 0\n",
    "\n",
    "    for knapWeights in range (knapWeight + 1):\n",
    "        print \"KNAPWEIGHT:\", knapWeights - 1, \" \", maxProfits\n",
    "        newItem = itemList[0]\n",
    "\n",
    "        for item in [x for x in itemList if x.weight <= knapWeights]:\n",
    "        if maxProfits[knapWeights - item.weight] + item.value > maxProfit: \n",
    "                maxProfit = maxProfits[knapWeights - item.weight] + item.value\n",
    "                newItem = item\n",
    "        maxProfits[knapWeights] = maxProfit\n",
    "        weightsUsed[knapWeights] = newItem.weight\n",
    "\n",
    "    return(maxProfits[knapWeight])\n",
    "    \n",
    "def reMaxProfit(itemList, knapWeight):\n",
    "    if knapWeight < 1:\n",
    "        return 0 \n",
    "\n",
    "    l1 = [x for x in itemList if x.weight <= knapWeight]\t\n",
    "    profitList = [(item.value + reMaxProfit(itemList, knapWeight-item.weight)) for item in l1]\n",
    "\n",
    "    if len(profitList) > 0:\n",
    "        return max(profitList)\n",
    "    else:\n",
    "        return 0 \n",
    "\n",
    "def _weightsUsed(weightList, knapWeight):\n",
    "    weight = knapWeight\n",
    "    while weight > 0:\n",
    "        print(weightList[weight])\n",
    "        weight -= weightList[weight]\n",
    "recurse = True\n",
    "if recurse:\n",
    "    maxProfits = [0] * (knapWeight + 1)\n",
    "    weightsUsed = [0] * (knapWeight + 1)\n",
    "\n",
    "def main():\n",
    "    itemList = [StolenItem(1,3,2), StolenItem(2,4,3), StolenItem(3,8,4), StolenItem(4,8,5), StolenItem(5,10,9)]\n",
    "    knapWeight = 20\n",
    "    if !recurse:\n",
    "        maxProfits = [0] * (knapWeight + 1)\n",
    "        weightsUsed = [0] * (knapWeight + 1)\n",
    "        print(dpMaxProfit(itemList, knapWeight, maxProfits, weightsUsed))\n",
    "        print _weightsUsed(weightsUsed, knapWeight)\n",
    "    else:\n",
    "        print (reMaxProfit(itemList, knapWeight))\n",
    "\n",
    "if _name_ == \"_main_\":\n",
    "    main()"
   ]
  }
 ],
 "metadata": {
  "kernelspec": {
   "display_name": "Python 3",
   "language": "python",
   "name": "python3"
  },
  "language_info": {
   "codemirror_mode": {
    "name": "ipython",
    "version": 3
   },
   "file_extension": ".py",
   "mimetype": "text/x-python",
   "name": "python",
   "nbconvert_exporter": "python",
   "pygments_lexer": "ipython3",
   "version": "3.9.2"
  }
 },
 "nbformat": 4,
 "nbformat_minor": 5
}
